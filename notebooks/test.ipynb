{
 "cells": [
  {
   "cell_type": "code",
   "execution_count": 1,
   "metadata": {},
   "outputs": [],
   "source": [
    "import re\n",
    "\n",
    "MULTILINESTRING_REGEX = re.compile(r'^\\s*MULTILINESTRING\\s*\\(\\s*(.+?)\\s*\\)\\s*$', re.I | re.S)\n",
    "PAIR_REGEX = re.compile(r'(-?\\d+(?:\\.\\d+)?)\\s+(-?\\d+(?:\\.\\d+)?)')  # (lon lat)\n",
    "\n",
    "def parse_multilinestring(s: str) -> list[list[tuple[float, float]]]:\n",
    "    \"\"\"\n",
    "    Parse MULTILINESTRING into list of segments.\n",
    "    Returns [ [(lon,lat), ...], ... ], skipping segments with <2 points.\n",
    "    Empty list means true parse failure.\n",
    "    \"\"\"\n",
    "    if not isinstance(s, str):\n",
    "        return []\n",
    "    m = MULTILINESTRING_REGEX.match(s.strip())\n",
    "    if not m:\n",
    "        return []\n",
    "    inner = m.group(1)\n",
    "    seg_strs = re.findall(r'\\(\\s*([^\\)]*?)\\s*\\)', inner)\n",
    "    lines: list[list[tuple[float, float]]] = []\n",
    "    for seg in seg_strs:\n",
    "        pts = [(float(x), float(y)) for (x, y) in PAIR_REGEX.findall(seg)]\n",
    "        if len(pts) >= 2:\n",
    "            lines.append(pts)\n",
    "    return lines"
   ]
  },
  {
   "cell_type": "code",
   "execution_count": 2,
   "metadata": {},
   "outputs": [
    {
     "data": {
      "text/plain": [
       "Index(['Unnamed: 0', 'OBJECTID', 'ID', 'SUB_1', 'SUB_2', 'VOLTAGE', 'TYPE',\n",
       "       'STATUS', 'SHAPE_Length', 'geometry'],\n",
       "      dtype='object')"
      ]
     },
     "execution_count": 2,
     "metadata": {},
     "output_type": "execute_result"
    }
   ],
   "source": [
    "import pandas as pd\n",
    "df = pd.read_csv(\"/Users/machaax/Desktop/ROPES/ropes/data/sample.csv\")\n",
    "df.columns"
   ]
  },
  {
   "cell_type": "code",
   "execution_count": 3,
   "metadata": {},
   "outputs": [],
   "source": [
    "df['parsed'] = df['geometry'].apply(parse_multilinestring)"
   ]
  },
  {
   "cell_type": "code",
   "execution_count": 4,
   "metadata": {},
   "outputs": [
    {
     "data": {
      "text/plain": [
       "'MULTILINESTRING ((-81.8951368 35.3493237, -81.8947923 35.3491632, -81.8951786 35.3486761, -81.896675 35.3467405, -81.8979625 35.345235, -81.8979368 35.3437489, -81.8972616 35.3412667, -81.8970365 35.3390041, -81.896676 35.3369321, -81.8963967 35.3354948, -81.8960788 35.3337498, -81.8953985 35.3300535, -81.8950568 35.3281895, -81.8947122 35.3262456, -81.8944775 35.3250602, -81.8941715 35.3233561, -81.8937823 35.3212399, -81.8934465 35.3193443, -81.8930336 35.3170873, -81.8927602 35.3156449, -81.8923384 35.3134364, -81.8919908 35.3114702, -81.8917353 35.3096398, -81.8914174 35.3082845, -81.8908974 35.3053532, -81.8906598 35.3038063, -81.890431 35.3023588, -81.8902111 35.3009597, -81.8898249 35.2986611, -81.889611 35.2972208, -81.8892604 35.2949826, -81.8888742 35.2927759, -81.8886157 35.2911269, -81.8884776 35.2900644, -81.8882851 35.2897879, -81.8882102 35.289721))'"
      ]
     },
     "execution_count": 4,
     "metadata": {},
     "output_type": "execute_result"
    }
   ],
   "source": [
    "df['geometry'].iloc[10]"
   ]
  },
  {
   "cell_type": "code",
   "execution_count": 5,
   "metadata": {},
   "outputs": [
    {
     "data": {
      "text/plain": [
       "[[(-81.8951368, 35.3493237),\n",
       "  (-81.8947923, 35.3491632),\n",
       "  (-81.8951786, 35.3486761),\n",
       "  (-81.896675, 35.3467405),\n",
       "  (-81.8979625, 35.345235),\n",
       "  (-81.8979368, 35.3437489),\n",
       "  (-81.8972616, 35.3412667),\n",
       "  (-81.8970365, 35.3390041),\n",
       "  (-81.896676, 35.3369321),\n",
       "  (-81.8963967, 35.3354948),\n",
       "  (-81.8960788, 35.3337498),\n",
       "  (-81.8953985, 35.3300535),\n",
       "  (-81.8950568, 35.3281895),\n",
       "  (-81.8947122, 35.3262456),\n",
       "  (-81.8944775, 35.3250602),\n",
       "  (-81.8941715, 35.3233561),\n",
       "  (-81.8937823, 35.3212399),\n",
       "  (-81.8934465, 35.3193443),\n",
       "  (-81.8930336, 35.3170873),\n",
       "  (-81.8927602, 35.3156449),\n",
       "  (-81.8923384, 35.3134364),\n",
       "  (-81.8919908, 35.3114702),\n",
       "  (-81.8917353, 35.3096398),\n",
       "  (-81.8914174, 35.3082845),\n",
       "  (-81.8908974, 35.3053532),\n",
       "  (-81.8906598, 35.3038063),\n",
       "  (-81.890431, 35.3023588),\n",
       "  (-81.8902111, 35.3009597),\n",
       "  (-81.8898249, 35.2986611),\n",
       "  (-81.889611, 35.2972208),\n",
       "  (-81.8892604, 35.2949826),\n",
       "  (-81.8888742, 35.2927759),\n",
       "  (-81.8886157, 35.2911269),\n",
       "  (-81.8884776, 35.2900644),\n",
       "  (-81.8882851, 35.2897879),\n",
       "  (-81.8882102, 35.289721)]]"
      ]
     },
     "execution_count": 5,
     "metadata": {},
     "output_type": "execute_result"
    }
   ],
   "source": [
    "df['parsed'].iloc[10]"
   ]
  },
  {
   "cell_type": "code",
   "execution_count": 6,
   "metadata": {},
   "outputs": [
    {
     "data": {
      "text/plain": [
       "[(-81.8951368, 35.3493237),\n",
       " (-81.8947923, 35.3491632),\n",
       " (-81.8951786, 35.3486761),\n",
       " (-81.896675, 35.3467405),\n",
       " (-81.8979625, 35.345235),\n",
       " (-81.8979368, 35.3437489),\n",
       " (-81.8972616, 35.3412667),\n",
       " (-81.8970365, 35.3390041),\n",
       " (-81.896676, 35.3369321),\n",
       " (-81.8963967, 35.3354948),\n",
       " (-81.8960788, 35.3337498),\n",
       " (-81.8953985, 35.3300535),\n",
       " (-81.8950568, 35.3281895),\n",
       " (-81.8947122, 35.3262456),\n",
       " (-81.8944775, 35.3250602),\n",
       " (-81.8941715, 35.3233561),\n",
       " (-81.8937823, 35.3212399),\n",
       " (-81.8934465, 35.3193443),\n",
       " (-81.8930336, 35.3170873),\n",
       " (-81.8927602, 35.3156449),\n",
       " (-81.8923384, 35.3134364),\n",
       " (-81.8919908, 35.3114702),\n",
       " (-81.8917353, 35.3096398),\n",
       " (-81.8914174, 35.3082845),\n",
       " (-81.8908974, 35.3053532),\n",
       " (-81.8906598, 35.3038063),\n",
       " (-81.890431, 35.3023588),\n",
       " (-81.8902111, 35.3009597),\n",
       " (-81.8898249, 35.2986611),\n",
       " (-81.889611, 35.2972208),\n",
       " (-81.8892604, 35.2949826),\n",
       " (-81.8888742, 35.2927759),\n",
       " (-81.8886157, 35.2911269),\n",
       " (-81.8884776, 35.2900644),\n",
       " (-81.8882851, 35.2897879),\n",
       " (-81.8882102, 35.289721)]"
      ]
     },
     "execution_count": 6,
     "metadata": {},
     "output_type": "execute_result"
    }
   ],
   "source": [
    "df['parsed'].iloc[10][0]"
   ]
  },
  {
   "cell_type": "code",
   "execution_count": 7,
   "metadata": {},
   "outputs": [
    {
     "ename": "IndexError",
     "evalue": "list index out of range",
     "output_type": "error",
     "traceback": [
      "\u001b[31m---------------------------------------------------------------------------\u001b[39m",
      "\u001b[31mIndexError\u001b[39m                                Traceback (most recent call last)",
      "\u001b[36mCell\u001b[39m\u001b[36m \u001b[39m\u001b[32mIn[7]\u001b[39m\u001b[32m, line 1\u001b[39m\n\u001b[32m----> \u001b[39m\u001b[32m1\u001b[39m \u001b[43mdf\u001b[49m\u001b[43m[\u001b[49m\u001b[33;43m'\u001b[39;49m\u001b[33;43mparsed\u001b[39;49m\u001b[33;43m'\u001b[39;49m\u001b[43m]\u001b[49m\u001b[43m.\u001b[49m\u001b[43miloc\u001b[49m\u001b[43m[\u001b[49m\u001b[32;43m10\u001b[39;49m\u001b[43m]\u001b[49m\u001b[43m[\u001b[49m\u001b[32;43m1\u001b[39;49m\u001b[43m]\u001b[49m\n",
      "\u001b[31mIndexError\u001b[39m: list index out of range"
     ]
    }
   ],
   "source": [
    "df['parsed'].iloc[10][1]"
   ]
  },
  {
   "cell_type": "code",
   "execution_count": null,
   "metadata": {},
   "outputs": [],
   "source": []
  }
 ],
 "metadata": {
  "kernelspec": {
   "display_name": "ai",
   "language": "python",
   "name": "python3"
  },
  "language_info": {
   "codemirror_mode": {
    "name": "ipython",
    "version": 3
   },
   "file_extension": ".py",
   "mimetype": "text/x-python",
   "name": "python",
   "nbconvert_exporter": "python",
   "pygments_lexer": "ipython3",
   "version": "3.12.9"
  }
 },
 "nbformat": 4,
 "nbformat_minor": 2
}
