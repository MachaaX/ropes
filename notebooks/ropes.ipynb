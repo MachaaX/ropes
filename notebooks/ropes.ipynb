{
 "cells": [
  {
   "cell_type": "code",
   "execution_count": 1,
   "metadata": {},
   "outputs": [],
   "source": [
    "import pandas as pd"
   ]
  },
  {
   "cell_type": "code",
   "execution_count": 2,
   "metadata": {},
   "outputs": [],
   "source": [
    "df = pd.read_csv(\"/Users/machaax/Desktop/ROPES/ropes/data/transmission_line_table.csv\", index_col=0)"
   ]
  },
  {
   "cell_type": "code",
   "execution_count": 3,
   "metadata": {},
   "outputs": [
    {
     "data": {
      "text/html": [
       "<div>\n",
       "<style scoped>\n",
       "    .dataframe tbody tr th:only-of-type {\n",
       "        vertical-align: middle;\n",
       "    }\n",
       "\n",
       "    .dataframe tbody tr th {\n",
       "        vertical-align: top;\n",
       "    }\n",
       "\n",
       "    .dataframe thead th {\n",
       "        text-align: right;\n",
       "    }\n",
       "</style>\n",
       "<table border=\"1\" class=\"dataframe\">\n",
       "  <thead>\n",
       "    <tr style=\"text-align: right;\">\n",
       "      <th></th>\n",
       "      <th>OBJECTID</th>\n",
       "      <th>ID</th>\n",
       "      <th>SUB_1</th>\n",
       "      <th>SUB_2</th>\n",
       "      <th>VOLTAGE</th>\n",
       "      <th>TYPE</th>\n",
       "      <th>STATUS</th>\n",
       "      <th>SHAPE_Length</th>\n",
       "      <th>geometry</th>\n",
       "    </tr>\n",
       "  </thead>\n",
       "  <tbody>\n",
       "    <tr>\n",
       "      <th>0</th>\n",
       "      <td>1</td>\n",
       "      <td>100511</td>\n",
       "      <td>WATERS RIVER</td>\n",
       "      <td>TAP136228</td>\n",
       "      <td>115.0</td>\n",
       "      <td>AC; OVERHEAD</td>\n",
       "      <td>IN SERVICE</td>\n",
       "      <td>0.000535</td>\n",
       "      <td>MULTILINESTRING ((-70.9285537 42.54359, -70.92...</td>\n",
       "    </tr>\n",
       "    <tr>\n",
       "      <th>1</th>\n",
       "      <td>2</td>\n",
       "      <td>140809</td>\n",
       "      <td>PHILLIPS BEND</td>\n",
       "      <td>JOHN SEVIER</td>\n",
       "      <td>161.0</td>\n",
       "      <td>AC; OVERHEAD</td>\n",
       "      <td>IN SERVICE</td>\n",
       "      <td>0.198755</td>\n",
       "      <td>MULTILINESTRING ((-82.961231 36.3769931, -82.9...</td>\n",
       "    </tr>\n",
       "    <tr>\n",
       "      <th>2</th>\n",
       "      <td>3</td>\n",
       "      <td>140837</td>\n",
       "      <td>TAP140359</td>\n",
       "      <td>TAP140373</td>\n",
       "      <td>115.0</td>\n",
       "      <td>AC; OVERHEAD</td>\n",
       "      <td>IN SERVICE</td>\n",
       "      <td>0.042609</td>\n",
       "      <td>MULTILINESTRING ((-75.3340663 43.0894616, -75....</td>\n",
       "    </tr>\n",
       "    <tr>\n",
       "      <th>3</th>\n",
       "      <td>4</td>\n",
       "      <td>140811</td>\n",
       "      <td>GENTILLY ROAD</td>\n",
       "      <td>MICHOUD STATION</td>\n",
       "      <td>115.0</td>\n",
       "      <td>AC; OVERHEAD</td>\n",
       "      <td>IN SERVICE</td>\n",
       "      <td>0.120183</td>\n",
       "      <td>MULTILINESTRING ((-89.9372786 30.0090511, -89....</td>\n",
       "    </tr>\n",
       "    <tr>\n",
       "      <th>4</th>\n",
       "      <td>5</td>\n",
       "      <td>140813</td>\n",
       "      <td>UNKNOWN137689</td>\n",
       "      <td>TAP137690</td>\n",
       "      <td>161.0</td>\n",
       "      <td>AC; OVERHEAD</td>\n",
       "      <td>IN SERVICE</td>\n",
       "      <td>0.069155</td>\n",
       "      <td>MULTILINESTRING ((-90.5660876 41.6125604, -90....</td>\n",
       "    </tr>\n",
       "  </tbody>\n",
       "</table>\n",
       "</div>"
      ],
      "text/plain": [
       "   OBJECTID      ID          SUB_1            SUB_2  VOLTAGE          TYPE  \\\n",
       "0         1  100511   WATERS RIVER        TAP136228    115.0  AC; OVERHEAD   \n",
       "1         2  140809  PHILLIPS BEND      JOHN SEVIER    161.0  AC; OVERHEAD   \n",
       "2         3  140837      TAP140359        TAP140373    115.0  AC; OVERHEAD   \n",
       "3         4  140811  GENTILLY ROAD  MICHOUD STATION    115.0  AC; OVERHEAD   \n",
       "4         5  140813  UNKNOWN137689        TAP137690    161.0  AC; OVERHEAD   \n",
       "\n",
       "       STATUS  SHAPE_Length                                           geometry  \n",
       "0  IN SERVICE      0.000535  MULTILINESTRING ((-70.9285537 42.54359, -70.92...  \n",
       "1  IN SERVICE      0.198755  MULTILINESTRING ((-82.961231 36.3769931, -82.9...  \n",
       "2  IN SERVICE      0.042609  MULTILINESTRING ((-75.3340663 43.0894616, -75....  \n",
       "3  IN SERVICE      0.120183  MULTILINESTRING ((-89.9372786 30.0090511, -89....  \n",
       "4  IN SERVICE      0.069155  MULTILINESTRING ((-90.5660876 41.6125604, -90....  "
      ]
     },
     "execution_count": 3,
     "metadata": {},
     "output_type": "execute_result"
    }
   ],
   "source": [
    "df.head()"
   ]
  },
  {
   "cell_type": "code",
   "execution_count": 4,
   "metadata": {},
   "outputs": [
    {
     "name": "stdout",
     "output_type": "stream",
     "text": [
      "<class 'pandas.core.frame.DataFrame'>\n",
      "Index: 94216 entries, 0 to 94215\n",
      "Data columns (total 9 columns):\n",
      " #   Column        Non-Null Count  Dtype  \n",
      "---  ------        --------------  -----  \n",
      " 0   OBJECTID      94216 non-null  int64  \n",
      " 1   ID            94216 non-null  int64  \n",
      " 2   SUB_1         94216 non-null  object \n",
      " 3   SUB_2         94216 non-null  object \n",
      " 4   VOLTAGE       94216 non-null  float64\n",
      " 5   TYPE          94216 non-null  object \n",
      " 6   STATUS        94216 non-null  object \n",
      " 7   SHAPE_Length  94216 non-null  float64\n",
      " 8   geometry      94216 non-null  object \n",
      "dtypes: float64(2), int64(2), object(5)\n",
      "memory usage: 7.2+ MB\n"
     ]
    }
   ],
   "source": [
    "df.info()"
   ]
  },
  {
   "cell_type": "code",
   "execution_count": 5,
   "metadata": {},
   "outputs": [
    {
     "data": {
      "text/plain": [
       "(94216, 94216, 94216, 49363, 47495, 66, 9, 5)"
      ]
     },
     "execution_count": 5,
     "metadata": {},
     "output_type": "execute_result"
    }
   ],
   "source": [
    "len(df), df['OBJECTID'].nunique(), df['ID'].nunique(), df['SUB_1'].nunique(), df['SUB_2'].nunique(), df['VOLTAGE'].nunique(), df['TYPE'].nunique(), df['STATUS'].nunique()"
   ]
  },
  {
   "cell_type": "code",
   "execution_count": 6,
   "metadata": {},
   "outputs": [
    {
     "data": {
      "text/plain": [
       "(array(['AC; OVERHEAD', 'OVERHEAD', 'AC; UNDERGROUND', 'UNDERGROUND',\n",
       "        'NOT AVAILABLE', 'DC; OVERHEAD', 'AC', 'DC', 'DC; UNDERGROUND'],\n",
       "       dtype=object),\n",
       " array(['IN SERVICE', 'NOT AVAILABLE', 'UNDER CONSTRUCTION', 'INACTIVE',\n",
       "        'PROPOSED'], dtype=object))"
      ]
     },
     "execution_count": 6,
     "metadata": {},
     "output_type": "execute_result"
    }
   ],
   "source": [
    "df['TYPE'].unique(), df['STATUS'].unique()"
   ]
  },
  {
   "cell_type": "code",
   "execution_count": 7,
   "metadata": {},
   "outputs": [
    {
     "data": {
      "text/plain": [
       "count     94216.000000\n",
       "mean    -149144.568313\n",
       "std      356384.268153\n",
       "min     -999999.000000\n",
       "25%          69.000000\n",
       "50%         115.000000\n",
       "75%         138.000000\n",
       "max        1000.000000\n",
       "Name: VOLTAGE, dtype: float64"
      ]
     },
     "execution_count": 7,
     "metadata": {},
     "output_type": "execute_result"
    }
   ],
   "source": [
    "df['VOLTAGE'].describe()"
   ]
  },
  {
   "cell_type": "code",
   "execution_count": 8,
   "metadata": {},
   "outputs": [
    {
     "data": {
      "text/html": [
       "<div>\n",
       "<style scoped>\n",
       "    .dataframe tbody tr th:only-of-type {\n",
       "        vertical-align: middle;\n",
       "    }\n",
       "\n",
       "    .dataframe tbody tr th {\n",
       "        vertical-align: top;\n",
       "    }\n",
       "\n",
       "    .dataframe thead th {\n",
       "        text-align: right;\n",
       "    }\n",
       "</style>\n",
       "<table border=\"1\" class=\"dataframe\">\n",
       "  <thead>\n",
       "    <tr style=\"text-align: right;\">\n",
       "      <th></th>\n",
       "      <th>OBJECTID</th>\n",
       "      <th>ID</th>\n",
       "      <th>SUB_1</th>\n",
       "      <th>SUB_2</th>\n",
       "      <th>VOLTAGE</th>\n",
       "      <th>TYPE</th>\n",
       "      <th>STATUS</th>\n",
       "      <th>SHAPE_Length</th>\n",
       "      <th>geometry</th>\n",
       "    </tr>\n",
       "  </thead>\n",
       "  <tbody>\n",
       "    <tr>\n",
       "      <th>69088</th>\n",
       "      <td>69089</td>\n",
       "      <td>200823</td>\n",
       "      <td>CELILO</td>\n",
       "      <td>SYLMAR EAST</td>\n",
       "      <td>1000.0</td>\n",
       "      <td>DC</td>\n",
       "      <td>IN SERVICE</td>\n",
       "      <td>12.781856</td>\n",
       "      <td>MULTILINESTRING ((-121.1130786 45.5946075, -12...</td>\n",
       "    </tr>\n",
       "  </tbody>\n",
       "</table>\n",
       "</div>"
      ],
      "text/plain": [
       "       OBJECTID      ID   SUB_1        SUB_2  VOLTAGE TYPE      STATUS  \\\n",
       "69088     69089  200823  CELILO  SYLMAR EAST   1000.0   DC  IN SERVICE   \n",
       "\n",
       "       SHAPE_Length                                           geometry  \n",
       "69088     12.781856  MULTILINESTRING ((-121.1130786 45.5946075, -12...  "
      ]
     },
     "execution_count": 8,
     "metadata": {},
     "output_type": "execute_result"
    }
   ],
   "source": [
    "# print rows where VOLTAGE is greater than 500\n",
    "df[df['VOLTAGE'] > 800]"
   ]
  },
  {
   "cell_type": "code",
   "execution_count": 9,
   "metadata": {},
   "outputs": [
    {
     "data": {
      "text/plain": [
       "(14062, 9)"
      ]
     },
     "execution_count": 9,
     "metadata": {},
     "output_type": "execute_result"
    }
   ],
   "source": [
    "df[df['VOLTAGE'] < 0].shape"
   ]
  },
  {
   "cell_type": "code",
   "execution_count": 10,
   "metadata": {},
   "outputs": [
    {
     "data": {
      "text/plain": [
       "(1, array([-999999.]))"
      ]
     },
     "execution_count": 10,
     "metadata": {},
     "output_type": "execute_result"
    }
   ],
   "source": [
    "df[df['VOLTAGE'] < 0]['VOLTAGE'].nunique(), df[df['VOLTAGE'] < 0]['VOLTAGE'].unique()"
   ]
  },
  {
   "cell_type": "code",
   "execution_count": 11,
   "metadata": {},
   "outputs": [
    {
     "data": {
      "text/plain": [
       "0"
      ]
     },
     "execution_count": 11,
     "metadata": {},
     "output_type": "execute_result"
    }
   ],
   "source": [
    "# find None or NaN values in VOLTAGE column\n",
    "df['VOLTAGE'].isnull().sum()"
   ]
  },
  {
   "cell_type": "code",
   "execution_count": 12,
   "metadata": {},
   "outputs": [
    {
     "data": {
      "image/png": "[encoded data removed]",
      "text/plain": [
       "<Figure size 640x480 with 1 Axes>"
      ]
     },
     "metadata": {},
     "output_type": "display_data"
    }
   ],
   "source": [
    "# graph VOLTAGE distribution\n",
    "import matplotlib.pyplot as plt\n",
    "plt.hist(df['VOLTAGE'].dropna(), bins=10)\n",
    "plt.xlabel('VOLTAGE')\n",
    "plt.ylabel('Frequency')\n",
    "plt.title('Distribution of VOLTAGE')\n",
    "plt.show()"
   ]
  },
  {
   "cell_type": "code",
   "execution_count": 13,
   "metadata": {},
   "outputs": [
    {
     "data": {
      "text/plain": [
       "(str, 'MULTILINESTRING ((-70.9285537 42.54359, -70.9284093 42.5441055))')"
      ]
     },
     "execution_count": 13,
     "metadata": {},
     "output_type": "execute_result"
    }
   ],
   "source": [
    "type(df['geometry'].iloc[0]), df['geometry'].iloc[0]"
   ]
  },
  {
   "cell_type": "code",
   "execution_count": 14,
   "metadata": {},
   "outputs": [
    {
     "data": {
      "text/plain": [
       "'MULTILINESTRING ((-82.961231 36.3769931, -82.9608982 36.3767008, -82.9596644 36.3770983, -82.9566694 36.3779403, -82.9544144 36.3785479, -82.9509828 36.3783781, -82.9486834 36.3775958, -82.94449 36.3760295, -82.9405431 36.3742371, -82.9369298 36.371329, -82.9340288 36.368967, -82.9318689 36.3670092, -82.930141 36.367897, -82.9287103 36.3685667, -82.9256314 36.370783, -82.9142244 36.3788017, -82.9119223 36.3808468, -82.9045019 36.3875391, -82.9032384 36.3894664, -82.9014396 36.3990604, -82.8955183 36.4038253, -82.8939228 36.4051209, -82.890475 36.4074338, -82.8869629 36.409843, -82.8729574 36.4192549, -82.8560823 36.4306264, -82.8480195 36.4360979, -82.8417662 36.4403917, -82.8298594 36.4486044, -82.8245485 36.45096, -82.8197729 36.4522557, -82.8177599 36.4534977, -82.8136375 36.4557356, -82.8097637 36.4573366, -82.8049001 36.4595047, -82.8059091 36.4610427, -82.806542 36.4619583, -82.8078841 36.4607057))'"
      ]
     },
     "execution_count": 14,
     "metadata": {},
     "output_type": "execute_result"
    }
   ],
   "source": [
    "df['geometry'].iloc[1]"
   ]
  },
  {
   "cell_type": "code",
   "execution_count": 15,
   "metadata": {},
   "outputs": [
    {
     "data": {
      "text/plain": [
       "geometry\n",
       "1    94216\n",
       "Name: count, dtype: int64"
      ]
     },
     "execution_count": 15,
     "metadata": {},
     "output_type": "execute_result"
    }
   ],
   "source": [
    "# count of appearances of the word 'MULTILINESTRING' in each row\n",
    "df['geometry'].str.count('MULTILINESTRING').value_counts()"
   ]
  },
  {
   "cell_type": "markdown",
   "metadata": {},
   "source": [
    "## saving random sample into /data/ folder"
   ]
  },
  {
   "cell_type": "code",
   "execution_count": 16,
   "metadata": {},
   "outputs": [
    {
     "data": {
      "text/plain": [
       "'/Users/machaax/Desktop/ROPES/ropes/notebooks'"
      ]
     },
     "execution_count": 16,
     "metadata": {},
     "output_type": "execute_result"
    }
   ],
   "source": [
    "pwd"
   ]
  },
  {
   "cell_type": "code",
   "execution_count": 17,
   "metadata": {},
   "outputs": [],
   "source": [
    "sample_df = df.sample(1000, random_state=42)\n",
    "sample_df.to_csv(\"../data/sample.csv\")"
   ]
  },
  {
   "cell_type": "code",
   "execution_count": 18,
   "metadata": {},
   "outputs": [
    {
     "data": {
      "text/html": [
       "<div>\n",
       "<style scoped>\n",
       "    .dataframe tbody tr th:only-of-type {\n",
       "        vertical-align: middle;\n",
       "    }\n",
       "\n",
       "    .dataframe tbody tr th {\n",
       "        vertical-align: top;\n",
       "    }\n",
       "\n",
       "    .dataframe thead th {\n",
       "        text-align: right;\n",
       "    }\n",
       "</style>\n",
       "<table border=\"1\" class=\"dataframe\">\n",
       "  <thead>\n",
       "    <tr style=\"text-align: right;\">\n",
       "      <th></th>\n",
       "      <th>OBJECTID</th>\n",
       "      <th>ID</th>\n",
       "      <th>SUB_1</th>\n",
       "      <th>SUB_2</th>\n",
       "      <th>VOLTAGE</th>\n",
       "      <th>TYPE</th>\n",
       "      <th>STATUS</th>\n",
       "      <th>SHAPE_Length</th>\n",
       "      <th>geometry</th>\n",
       "    </tr>\n",
       "  </thead>\n",
       "  <tbody>\n",
       "    <tr>\n",
       "      <th>34893</th>\n",
       "      <td>34894</td>\n",
       "      <td>122566</td>\n",
       "      <td>UNKNOWN141217</td>\n",
       "      <td>TAP152450</td>\n",
       "      <td>138.0</td>\n",
       "      <td>AC; OVERHEAD</td>\n",
       "      <td>IN SERVICE</td>\n",
       "      <td>0.000596</td>\n",
       "      <td>MULTILINESTRING ((-83.293687 40.218521, -83.29...</td>\n",
       "    </tr>\n",
       "    <tr>\n",
       "      <th>77182</th>\n",
       "      <td>77183</td>\n",
       "      <td>209175</td>\n",
       "      <td>TAP207788</td>\n",
       "      <td>UNKNOWN207789</td>\n",
       "      <td>69.0</td>\n",
       "      <td>AC; OVERHEAD</td>\n",
       "      <td>NOT AVAILABLE</td>\n",
       "      <td>0.004719</td>\n",
       "      <td>MULTILINESTRING ((-114.1128018 47.6138357, -11...</td>\n",
       "    </tr>\n",
       "    <tr>\n",
       "      <th>52040</th>\n",
       "      <td>52041</td>\n",
       "      <td>175372</td>\n",
       "      <td>TAP154202</td>\n",
       "      <td>UNKNOWN170283</td>\n",
       "      <td>100.0</td>\n",
       "      <td>AC; OVERHEAD</td>\n",
       "      <td>IN SERVICE</td>\n",
       "      <td>0.024534</td>\n",
       "      <td>MULTILINESTRING ((-80.9026089 35.0860877, -80....</td>\n",
       "    </tr>\n",
       "    <tr>\n",
       "      <th>3200</th>\n",
       "      <td>3201</td>\n",
       "      <td>144869</td>\n",
       "      <td>TROY</td>\n",
       "      <td>TAP154683</td>\n",
       "      <td>161.0</td>\n",
       "      <td>AC; OVERHEAD</td>\n",
       "      <td>IN SERVICE</td>\n",
       "      <td>0.105336</td>\n",
       "      <td>MULTILINESTRING ((-89.1571653 36.3341038, -89....</td>\n",
       "    </tr>\n",
       "    <tr>\n",
       "      <th>29885</th>\n",
       "      <td>29886</td>\n",
       "      <td>163816</td>\n",
       "      <td>BRISTOW</td>\n",
       "      <td>TAP160436</td>\n",
       "      <td>161.0</td>\n",
       "      <td>AC; OVERHEAD</td>\n",
       "      <td>IN SERVICE</td>\n",
       "      <td>0.006948</td>\n",
       "      <td>MULTILINESTRING ((-86.3338278 37.0340042, -86....</td>\n",
       "    </tr>\n",
       "  </tbody>\n",
       "</table>\n",
       "</div>"
      ],
      "text/plain": [
       "       OBJECTID      ID          SUB_1          SUB_2  VOLTAGE          TYPE  \\\n",
       "34893     34894  122566  UNKNOWN141217      TAP152450    138.0  AC; OVERHEAD   \n",
       "77182     77183  209175      TAP207788  UNKNOWN207789     69.0  AC; OVERHEAD   \n",
       "52040     52041  175372      TAP154202  UNKNOWN170283    100.0  AC; OVERHEAD   \n",
       "3200       3201  144869           TROY      TAP154683    161.0  AC; OVERHEAD   \n",
       "29885     29886  163816        BRISTOW      TAP160436    161.0  AC; OVERHEAD   \n",
       "\n",
       "              STATUS  SHAPE_Length  \\\n",
       "34893     IN SERVICE      0.000596   \n",
       "77182  NOT AVAILABLE      0.004719   \n",
       "52040     IN SERVICE      0.024534   \n",
       "3200      IN SERVICE      0.105336   \n",
       "29885     IN SERVICE      0.006948   \n",
       "\n",
       "                                                geometry  \n",
       "34893  MULTILINESTRING ((-83.293687 40.218521, -83.29...  \n",
       "77182  MULTILINESTRING ((-114.1128018 47.6138357, -11...  \n",
       "52040  MULTILINESTRING ((-80.9026089 35.0860877, -80....  \n",
       "3200   MULTILINESTRING ((-89.1571653 36.3341038, -89....  \n",
       "29885  MULTILINESTRING ((-86.3338278 37.0340042, -86....  "
      ]
     },
     "execution_count": 18,
     "metadata": {},
     "output_type": "execute_result"
    }
   ],
   "source": [
    "sample_df.head()"
   ]
  },
  {
   "cell_type": "code",
   "execution_count": 19,
   "metadata": {},
   "outputs": [
    {
     "data": {
      "text/plain": [
       "Index(['OBJECTID', 'ID', 'SUB_1', 'SUB_2', 'VOLTAGE', 'TYPE', 'STATUS',\n",
       "       'SHAPE_Length', 'geometry'],\n",
       "      dtype='object')"
      ]
     },
     "execution_count": 19,
     "metadata": {},
     "output_type": "execute_result"
    }
   ],
   "source": [
    "sample_df.columns"
   ]
  },
  {
   "cell_type": "code",
   "execution_count": 20,
   "metadata": {},
   "outputs": [],
   "source": [
    "sample_2_df = df.sample(10000, random_state=42)\n",
    "sample_2_df.to_csv(\"../data/sample_10k_rows.csv\")"
   ]
  },
  {
   "cell_type": "code",
   "execution_count": null,
   "metadata": {},
   "outputs": [],
   "source": []
  },
  {
   "cell_type": "code",
   "execution_count": 21,
   "metadata": {},
   "outputs": [],
   "source": [
    "df2 = pd.read_csv(\"/Users/machaax/Desktop/ROPES/ropes/data/substations.csv\", index_col=0)"
   ]
  },
  {
   "cell_type": "code",
   "execution_count": 22,
   "metadata": {},
   "outputs": [
    {
     "data": {
      "text/html": [
       "<div>\n",
       "<style scoped>\n",
       "    .dataframe tbody tr th:only-of-type {\n",
       "        vertical-align: middle;\n",
       "    }\n",
       "\n",
       "    .dataframe tbody tr th {\n",
       "        vertical-align: top;\n",
       "    }\n",
       "\n",
       "    .dataframe thead th {\n",
       "        text-align: right;\n",
       "    }\n",
       "</style>\n",
       "<table border=\"1\" class=\"dataframe\">\n",
       "  <thead>\n",
       "    <tr style=\"text-align: right;\">\n",
       "      <th></th>\n",
       "      <th>Substation ID</th>\n",
       "      <th>Substation Name</th>\n",
       "      <th>Coordinates</th>\n",
       "      <th>Census Tract</th>\n",
       "      <th>geometry</th>\n",
       "    </tr>\n",
       "  </thead>\n",
       "  <tbody>\n",
       "    <tr>\n",
       "      <th>0</th>\n",
       "      <td>1</td>\n",
       "      <td>UNKNOWN170588</td>\n",
       "      <td>(-86.5050824, 36.5905433)</td>\n",
       "      <td>82778.0</td>\n",
       "      <td>POINT (36.5905433 -86.5050824)</td>\n",
       "    </tr>\n",
       "    <tr>\n",
       "      <th>1</th>\n",
       "      <td>2</td>\n",
       "      <td>TAP303635</td>\n",
       "      <td>(-103.2491584, 31.5946049)</td>\n",
       "      <td>84039.0</td>\n",
       "      <td>POINT (31.5946049 -103.2491584)</td>\n",
       "    </tr>\n",
       "    <tr>\n",
       "      <th>2</th>\n",
       "      <td>3</td>\n",
       "      <td>TAP139359</td>\n",
       "      <td>(-76.0622525, 38.8605059)</td>\n",
       "      <td>84950.0</td>\n",
       "      <td>POINT (38.8605059 -76.0622525)</td>\n",
       "    </tr>\n",
       "    <tr>\n",
       "      <th>3</th>\n",
       "      <td>4</td>\n",
       "      <td>TAP141827</td>\n",
       "      <td>(-82.2700461, 33.8427862)</td>\n",
       "      <td>69284.0</td>\n",
       "      <td>POINT (33.8427862 -82.2700461)</td>\n",
       "    </tr>\n",
       "    <tr>\n",
       "      <th>4</th>\n",
       "      <td>5</td>\n",
       "      <td>UNKNOWN111615</td>\n",
       "      <td>(-76.8106712, 34.745885)</td>\n",
       "      <td>75080.0</td>\n",
       "      <td>POINT (34.745885 -76.8106712)</td>\n",
       "    </tr>\n",
       "  </tbody>\n",
       "</table>\n",
       "</div>"
      ],
      "text/plain": [
       "   Substation ID Substation Name                 Coordinates  Census Tract  \\\n",
       "0              1   UNKNOWN170588   (-86.5050824, 36.5905433)       82778.0   \n",
       "1              2       TAP303635  (-103.2491584, 31.5946049)       84039.0   \n",
       "2              3       TAP139359   (-76.0622525, 38.8605059)       84950.0   \n",
       "3              4       TAP141827   (-82.2700461, 33.8427862)       69284.0   \n",
       "4              5   UNKNOWN111615    (-76.8106712, 34.745885)       75080.0   \n",
       "\n",
       "                          geometry  \n",
       "0   POINT (36.5905433 -86.5050824)  \n",
       "1  POINT (31.5946049 -103.2491584)  \n",
       "2   POINT (38.8605059 -76.0622525)  \n",
       "3   POINT (33.8427862 -82.2700461)  \n",
       "4    POINT (34.745885 -76.8106712)  "
      ]
     },
     "execution_count": 22,
     "metadata": {},
     "output_type": "execute_result"
    }
   ],
   "source": [
    "df2.head()"
   ]
  },
  {
   "cell_type": "code",
   "execution_count": 23,
   "metadata": {},
   "outputs": [],
   "source": [
    "df3 = pd.read_csv(\"/Users/machaax/Desktop/ROPES/ropes/data/needs_combined_with_coordinates.csv\", index_col=0, low_memory=False)"
   ]
  },
  {
   "cell_type": "code",
   "execution_count": 24,
   "metadata": {},
   "outputs": [
    {
     "data": {
      "text/html": [
       "<div>\n",
       "<style scoped>\n",
       "    .dataframe tbody tr th:only-of-type {\n",
       "        vertical-align: middle;\n",
       "    }\n",
       "\n",
       "    .dataframe tbody tr th {\n",
       "        vertical-align: top;\n",
       "    }\n",
       "\n",
       "    .dataframe thead th {\n",
       "        text-align: right;\n",
       "    }\n",
       "</style>\n",
       "<table border=\"1\" class=\"dataframe\">\n",
       "  <thead>\n",
       "    <tr style=\"text-align: right;\">\n",
       "      <th></th>\n",
       "      <th>UniqueID_Final</th>\n",
       "      <th>ORIS Plant Code</th>\n",
       "      <th>Boiler/Generator/Committed Unit</th>\n",
       "      <th>Unit ID</th>\n",
       "      <th>CAMD Database UnitID</th>\n",
       "      <th>PlantType</th>\n",
       "      <th>Combustion Turbine/IC Engine</th>\n",
       "      <th>Region Name</th>\n",
       "      <th>State Name</th>\n",
       "      <th>State Code</th>\n",
       "      <th>...</th>\n",
       "      <th>C2G</th>\n",
       "      <th>C2G Online Year</th>\n",
       "      <th>BART Affected Unit</th>\n",
       "      <th>Owner Name</th>\n",
       "      <th>Owner Percent</th>\n",
       "      <th>Holding Company</th>\n",
       "      <th>Holding Company Percent</th>\n",
       "      <th>Regulatory Status</th>\n",
       "      <th>Longitude</th>\n",
       "      <th>Latitude</th>\n",
       "    </tr>\n",
       "    <tr>\n",
       "      <th>Plant Name</th>\n",
       "      <th></th>\n",
       "      <th></th>\n",
       "      <th></th>\n",
       "      <th></th>\n",
       "      <th></th>\n",
       "      <th></th>\n",
       "      <th></th>\n",
       "      <th></th>\n",
       "      <th></th>\n",
       "      <th></th>\n",
       "      <th></th>\n",
       "      <th></th>\n",
       "      <th></th>\n",
       "      <th></th>\n",
       "      <th></th>\n",
       "      <th></th>\n",
       "      <th></th>\n",
       "      <th></th>\n",
       "      <th></th>\n",
       "      <th></th>\n",
       "      <th></th>\n",
       "    </tr>\n",
       "  </thead>\n",
       "  <tbody>\n",
       "    <tr>\n",
       "      <th>Labadie</th>\n",
       "      <td>2103_B_2</td>\n",
       "      <td>2103</td>\n",
       "      <td>B</td>\n",
       "      <td>2</td>\n",
       "      <td>1329.0</td>\n",
       "      <td>Coal Steam</td>\n",
       "      <td>NaN</td>\n",
       "      <td>MIS_MO</td>\n",
       "      <td>Missouri</td>\n",
       "      <td>29</td>\n",
       "      <td>...</td>\n",
       "      <td>NaN</td>\n",
       "      <td>NaN</td>\n",
       "      <td>NaN</td>\n",
       "      <td>Ameren Missouri</td>\n",
       "      <td>100.0</td>\n",
       "      <td>Ameren Corp</td>\n",
       "      <td>100.0</td>\n",
       "      <td>Regulated</td>\n",
       "      <td>-90.837686</td>\n",
       "      <td>38.562244</td>\n",
       "    </tr>\n",
       "    <tr>\n",
       "      <th>Labadie</th>\n",
       "      <td>2103_B_3</td>\n",
       "      <td>2103</td>\n",
       "      <td>B</td>\n",
       "      <td>3</td>\n",
       "      <td>1330.0</td>\n",
       "      <td>Coal Steam</td>\n",
       "      <td>NaN</td>\n",
       "      <td>MIS_MO</td>\n",
       "      <td>Missouri</td>\n",
       "      <td>29</td>\n",
       "      <td>...</td>\n",
       "      <td>NaN</td>\n",
       "      <td>NaN</td>\n",
       "      <td>NaN</td>\n",
       "      <td>Ameren Missouri</td>\n",
       "      <td>100.0</td>\n",
       "      <td>Ameren Corp</td>\n",
       "      <td>100.0</td>\n",
       "      <td>Regulated</td>\n",
       "      <td>-90.837686</td>\n",
       "      <td>38.562244</td>\n",
       "    </tr>\n",
       "    <tr>\n",
       "      <th>Labadie</th>\n",
       "      <td>2103_B_4</td>\n",
       "      <td>2103</td>\n",
       "      <td>B</td>\n",
       "      <td>4</td>\n",
       "      <td>1331.0</td>\n",
       "      <td>Coal Steam</td>\n",
       "      <td>NaN</td>\n",
       "      <td>MIS_MO</td>\n",
       "      <td>Missouri</td>\n",
       "      <td>29</td>\n",
       "      <td>...</td>\n",
       "      <td>NaN</td>\n",
       "      <td>NaN</td>\n",
       "      <td>NaN</td>\n",
       "      <td>Ameren Missouri</td>\n",
       "      <td>100.0</td>\n",
       "      <td>Ameren Corp</td>\n",
       "      <td>100.0</td>\n",
       "      <td>Regulated</td>\n",
       "      <td>-90.837686</td>\n",
       "      <td>38.562244</td>\n",
       "    </tr>\n",
       "    <tr>\n",
       "      <th>Sioux</th>\n",
       "      <td>2107_B_1</td>\n",
       "      <td>2107</td>\n",
       "      <td>B</td>\n",
       "      <td>1</td>\n",
       "      <td>1336.0</td>\n",
       "      <td>Coal Steam</td>\n",
       "      <td>NaN</td>\n",
       "      <td>MIS_MO</td>\n",
       "      <td>Missouri</td>\n",
       "      <td>29</td>\n",
       "      <td>...</td>\n",
       "      <td>NaN</td>\n",
       "      <td>NaN</td>\n",
       "      <td>NaN</td>\n",
       "      <td>Ameren Missouri</td>\n",
       "      <td>100.0</td>\n",
       "      <td>Ameren Corp</td>\n",
       "      <td>100.0</td>\n",
       "      <td>Regulated</td>\n",
       "      <td>-90.290247</td>\n",
       "      <td>38.915479</td>\n",
       "    </tr>\n",
       "    <tr>\n",
       "      <th>Sioux</th>\n",
       "      <td>2107_B_2</td>\n",
       "      <td>2107</td>\n",
       "      <td>B</td>\n",
       "      <td>2</td>\n",
       "      <td>1337.0</td>\n",
       "      <td>Coal Steam</td>\n",
       "      <td>NaN</td>\n",
       "      <td>MIS_MO</td>\n",
       "      <td>Missouri</td>\n",
       "      <td>29</td>\n",
       "      <td>...</td>\n",
       "      <td>NaN</td>\n",
       "      <td>NaN</td>\n",
       "      <td>NaN</td>\n",
       "      <td>Ameren Missouri</td>\n",
       "      <td>100.0</td>\n",
       "      <td>Ameren Corp</td>\n",
       "      <td>100.0</td>\n",
       "      <td>Regulated</td>\n",
       "      <td>-90.290247</td>\n",
       "      <td>38.915479</td>\n",
       "    </tr>\n",
       "  </tbody>\n",
       "</table>\n",
       "<p>5 rows × 56 columns</p>\n",
       "</div>"
      ],
      "text/plain": [
       "           UniqueID_Final  ORIS Plant Code Boiler/Generator/Committed Unit  \\\n",
       "Plant Name                                                                   \n",
       "Labadie          2103_B_2             2103                               B   \n",
       "Labadie          2103_B_3             2103                               B   \n",
       "Labadie          2103_B_4             2103                               B   \n",
       "Sioux            2107_B_1             2107                               B   \n",
       "Sioux            2107_B_2             2107                               B   \n",
       "\n",
       "           Unit ID  CAMD Database UnitID   PlantType  \\\n",
       "Plant Name                                             \n",
       "Labadie          2                1329.0  Coal Steam   \n",
       "Labadie          3                1330.0  Coal Steam   \n",
       "Labadie          4                1331.0  Coal Steam   \n",
       "Sioux            1                1336.0  Coal Steam   \n",
       "Sioux            2                1337.0  Coal Steam   \n",
       "\n",
       "           Combustion Turbine/IC Engine Region Name State Name  State Code  \\\n",
       "Plant Name                                                                   \n",
       "Labadie                             NaN      MIS_MO   Missouri          29   \n",
       "Labadie                             NaN      MIS_MO   Missouri          29   \n",
       "Labadie                             NaN      MIS_MO   Missouri          29   \n",
       "Sioux                               NaN      MIS_MO   Missouri          29   \n",
       "Sioux                               NaN      MIS_MO   Missouri          29   \n",
       "\n",
       "            ...  C2G  C2G Online Year  BART Affected Unit       Owner Name  \\\n",
       "Plant Name  ...                                                              \n",
       "Labadie     ...  NaN              NaN                 NaN  Ameren Missouri   \n",
       "Labadie     ...  NaN              NaN                 NaN  Ameren Missouri   \n",
       "Labadie     ...  NaN              NaN                 NaN  Ameren Missouri   \n",
       "Sioux       ...  NaN              NaN                 NaN  Ameren Missouri   \n",
       "Sioux       ...  NaN              NaN                 NaN  Ameren Missouri   \n",
       "\n",
       "            Owner Percent  Holding Company  Holding Company Percent  \\\n",
       "Plant Name                                                            \n",
       "Labadie             100.0      Ameren Corp                    100.0   \n",
       "Labadie             100.0      Ameren Corp                    100.0   \n",
       "Labadie             100.0      Ameren Corp                    100.0   \n",
       "Sioux               100.0      Ameren Corp                    100.0   \n",
       "Sioux               100.0      Ameren Corp                    100.0   \n",
       "\n",
       "           Regulatory Status  Longitude   Latitude  \n",
       "Plant Name                                          \n",
       "Labadie            Regulated -90.837686  38.562244  \n",
       "Labadie            Regulated -90.837686  38.562244  \n",
       "Labadie            Regulated -90.837686  38.562244  \n",
       "Sioux              Regulated -90.290247  38.915479  \n",
       "Sioux              Regulated -90.290247  38.915479  \n",
       "\n",
       "[5 rows x 56 columns]"
      ]
     },
     "execution_count": 24,
     "metadata": {},
     "output_type": "execute_result"
    }
   ],
   "source": [
    "df3.head()"
   ]
  },
  {
   "cell_type": "code",
   "execution_count": 25,
   "metadata": {},
   "outputs": [
    {
     "data": {
      "text/plain": [
       "Index(['UniqueID_Final', 'ORIS Plant Code', 'Boiler/Generator/Committed Unit',\n",
       "       'Unit ID', 'CAMD Database UnitID', 'PlantType',\n",
       "       'Combustion Turbine/IC Engine', 'Region Name', 'State Name',\n",
       "       'State Code', 'County', 'County Code', 'FIPS5', 'Capacity (MW)',\n",
       "       'Heat Rate (Btu/kWh)', 'On Line Year', 'Retirement Year', 'Firing',\n",
       "       'Bottom', 'Cogen?', 'Modeled Fuels', 'Wet/DryScrubber',\n",
       "       'Scrubber_Online_Year', 'Scrubber Efficiency', 'NOx Comb Control',\n",
       "       'NOx Post-Comb Control', 'SCR_Online_Year', 'SNCR_Online_Year',\n",
       "       'PM Control', 'FlueGasConditioning_Flag', 'Mercury_Controls',\n",
       "       'ACI_Online_Year', 'Mercury_Controls Efficiency',\n",
       "       'SO2 Permit Rate (lbs/mmBtu)', 'Mode 1 NOx Rate (lbs/mmBtu)',\n",
       "       'Mode 2 NOx Rate (lbs/mmBtu)', 'Mode 3 NOx Rate  (lbs/mmBtu)',\n",
       "       'Mode 4 NOx Rate  (lbs/mmBtu)', 'Hg EMF for BIT', 'Hg EMF for SUB',\n",
       "       'Hg EMF for LIG', 'HCL Removal', 'DSI Unit', 'DSI Online Year', 'CCS',\n",
       "       'CCS Removal', 'C2G', 'C2G Online Year', 'BART Affected Unit',\n",
       "       'Owner Name', 'Owner Percent', 'Holding Company',\n",
       "       'Holding Company Percent', 'Regulatory Status', 'Longitude',\n",
       "       'Latitude'],\n",
       "      dtype='object')"
      ]
     },
     "execution_count": 25,
     "metadata": {},
     "output_type": "execute_result"
    }
   ],
   "source": [
    "df3.columns"
   ]
  },
  {
   "cell_type": "code",
   "execution_count": 26,
   "metadata": {},
   "outputs": [],
   "source": [
    "df4 = pd.read_csv(\"/Users/machaax/Desktop/ROPES/ropes/data/tract_demographics_table_with_ID.csv\", index_col=0, low_memory=False)"
   ]
  },
  {
   "cell_type": "code",
   "execution_count": 27,
   "metadata": {},
   "outputs": [
    {
     "data": {
      "text/html": [
       "<div>\n",
       "<style scoped>\n",
       "    .dataframe tbody tr th:only-of-type {\n",
       "        vertical-align: middle;\n",
       "    }\n",
       "\n",
       "    .dataframe tbody tr th {\n",
       "        vertical-align: top;\n",
       "    }\n",
       "\n",
       "    .dataframe thead th {\n",
       "        text-align: right;\n",
       "    }\n",
       "</style>\n",
       "<table border=\"1\" class=\"dataframe\">\n",
       "  <thead>\n",
       "    <tr style=\"text-align: right;\">\n",
       "      <th></th>\n",
       "      <th>GISJOIN</th>\n",
       "      <th>YEAR</th>\n",
       "      <th>STUSAB</th>\n",
       "      <th>GEOID</th>\n",
       "      <th>GEOCODE</th>\n",
       "      <th>REGIONA</th>\n",
       "      <th>DIVISIONA</th>\n",
       "      <th>STATE</th>\n",
       "      <th>STATEA</th>\n",
       "      <th>COUNTY</th>\n",
       "      <th>...</th>\n",
       "      <th>U7I003</th>\n",
       "      <th>U7I004</th>\n",
       "      <th>VAP001</th>\n",
       "      <th>VAP002</th>\n",
       "      <th>VAP003</th>\n",
       "      <th>VAP004</th>\n",
       "      <th>VAP005</th>\n",
       "      <th>VAP006</th>\n",
       "      <th>VAP007</th>\n",
       "      <th>VAP008</th>\n",
       "    </tr>\n",
       "    <tr>\n",
       "      <th>ID</th>\n",
       "      <th></th>\n",
       "      <th></th>\n",
       "      <th></th>\n",
       "      <th></th>\n",
       "      <th></th>\n",
       "      <th></th>\n",
       "      <th></th>\n",
       "      <th></th>\n",
       "      <th></th>\n",
       "      <th></th>\n",
       "      <th></th>\n",
       "      <th></th>\n",
       "      <th></th>\n",
       "      <th></th>\n",
       "      <th></th>\n",
       "      <th></th>\n",
       "      <th></th>\n",
       "      <th></th>\n",
       "      <th></th>\n",
       "      <th></th>\n",
       "      <th></th>\n",
       "    </tr>\n",
       "  </thead>\n",
       "  <tbody>\n",
       "    <tr>\n",
       "      <th>0</th>\n",
       "      <td>GIS Join Match Code</td>\n",
       "      <td>Data File Year</td>\n",
       "      <td>State/US-Abbreviation (USPS)</td>\n",
       "      <td>Geographic Record Identifier</td>\n",
       "      <td>Geographic Code Identifier</td>\n",
       "      <td>Region Code</td>\n",
       "      <td>Division Code</td>\n",
       "      <td>State (FIPS) Name</td>\n",
       "      <td>State (FIPS) Code</td>\n",
       "      <td>County (FIPS) Name</td>\n",
       "      <td>...</td>\n",
       "      <td>Rural</td>\n",
       "      <td>Not defined for this file</td>\n",
       "      <td>Total</td>\n",
       "      <td>1-person household</td>\n",
       "      <td>2-person household</td>\n",
       "      <td>3-person household</td>\n",
       "      <td>4-person household</td>\n",
       "      <td>5-person household</td>\n",
       "      <td>6-person household</td>\n",
       "      <td>7-or-more-person household</td>\n",
       "    </tr>\n",
       "    <tr>\n",
       "      <th>1</th>\n",
       "      <td>G0100010020100</td>\n",
       "      <td>2020</td>\n",
       "      <td>AL</td>\n",
       "      <td>1400000US01001020100</td>\n",
       "      <td>01001020100</td>\n",
       "      <td>3</td>\n",
       "      <td>6</td>\n",
       "      <td>Alabama</td>\n",
       "      <td>01</td>\n",
       "      <td>Autauga County</td>\n",
       "      <td>...</td>\n",
       "      <td>278</td>\n",
       "      <td>0</td>\n",
       "      <td>646</td>\n",
       "      <td>120</td>\n",
       "      <td>223</td>\n",
       "      <td>133</td>\n",
       "      <td>90</td>\n",
       "      <td>44</td>\n",
       "      <td>18</td>\n",
       "      <td>18</td>\n",
       "    </tr>\n",
       "    <tr>\n",
       "      <th>2</th>\n",
       "      <td>G0100010020200</td>\n",
       "      <td>2020</td>\n",
       "      <td>AL</td>\n",
       "      <td>1400000US01001020200</td>\n",
       "      <td>01001020200</td>\n",
       "      <td>3</td>\n",
       "      <td>6</td>\n",
       "      <td>Alabama</td>\n",
       "      <td>01</td>\n",
       "      <td>Autauga County</td>\n",
       "      <td>...</td>\n",
       "      <td>0</td>\n",
       "      <td>0</td>\n",
       "      <td>723</td>\n",
       "      <td>185</td>\n",
       "      <td>242</td>\n",
       "      <td>124</td>\n",
       "      <td>93</td>\n",
       "      <td>42</td>\n",
       "      <td>19</td>\n",
       "      <td>18</td>\n",
       "    </tr>\n",
       "    <tr>\n",
       "      <th>3</th>\n",
       "      <td>G0100010020300</td>\n",
       "      <td>2020</td>\n",
       "      <td>AL</td>\n",
       "      <td>1400000US01001020300</td>\n",
       "      <td>01001020300</td>\n",
       "      <td>3</td>\n",
       "      <td>6</td>\n",
       "      <td>Alabama</td>\n",
       "      <td>01</td>\n",
       "      <td>Autauga County</td>\n",
       "      <td>...</td>\n",
       "      <td>3</td>\n",
       "      <td>0</td>\n",
       "      <td>1291</td>\n",
       "      <td>353</td>\n",
       "      <td>419</td>\n",
       "      <td>216</td>\n",
       "      <td>171</td>\n",
       "      <td>93</td>\n",
       "      <td>29</td>\n",
       "      <td>10</td>\n",
       "    </tr>\n",
       "    <tr>\n",
       "      <th>4</th>\n",
       "      <td>G0100010020400</td>\n",
       "      <td>2020</td>\n",
       "      <td>AL</td>\n",
       "      <td>1400000US01001020400</td>\n",
       "      <td>01001020400</td>\n",
       "      <td>3</td>\n",
       "      <td>6</td>\n",
       "      <td>Alabama</td>\n",
       "      <td>01</td>\n",
       "      <td>Autauga County</td>\n",
       "      <td>...</td>\n",
       "      <td>176</td>\n",
       "      <td>0</td>\n",
       "      <td>1707</td>\n",
       "      <td>443</td>\n",
       "      <td>630</td>\n",
       "      <td>304</td>\n",
       "      <td>197</td>\n",
       "      <td>72</td>\n",
       "      <td>38</td>\n",
       "      <td>23</td>\n",
       "    </tr>\n",
       "  </tbody>\n",
       "</table>\n",
       "<p>5 rows × 37 columns</p>\n",
       "</div>"
      ],
      "text/plain": [
       "                GISJOIN            YEAR                        STUSAB  \\\n",
       "ID                                                                      \n",
       "0   GIS Join Match Code  Data File Year  State/US-Abbreviation (USPS)   \n",
       "1        G0100010020100            2020                            AL   \n",
       "2        G0100010020200            2020                            AL   \n",
       "3        G0100010020300            2020                            AL   \n",
       "4        G0100010020400            2020                            AL   \n",
       "\n",
       "                           GEOID                     GEOCODE      REGIONA  \\\n",
       "ID                                                                          \n",
       "0   Geographic Record Identifier  Geographic Code Identifier  Region Code   \n",
       "1           1400000US01001020100                 01001020100            3   \n",
       "2           1400000US01001020200                 01001020200            3   \n",
       "3           1400000US01001020300                 01001020300            3   \n",
       "4           1400000US01001020400                 01001020400            3   \n",
       "\n",
       "        DIVISIONA              STATE             STATEA              COUNTY  \\\n",
       "ID                                                                            \n",
       "0   Division Code  State (FIPS) Name  State (FIPS) Code  County (FIPS) Name   \n",
       "1               6            Alabama                 01      Autauga County   \n",
       "2               6            Alabama                 01      Autauga County   \n",
       "3               6            Alabama                 01      Autauga County   \n",
       "4               6            Alabama                 01      Autauga County   \n",
       "\n",
       "    ... U7I003                     U7I004 VAP001              VAP002  \\\n",
       "ID  ...                                                                \n",
       "0   ...  Rural  Not defined for this file  Total  1-person household   \n",
       "1   ...    278                          0    646                 120   \n",
       "2   ...      0                          0    723                 185   \n",
       "3   ...      3                          0   1291                 353   \n",
       "4   ...    176                          0   1707                 443   \n",
       "\n",
       "                VAP003              VAP004              VAP005  \\\n",
       "ID                                                               \n",
       "0   2-person household  3-person household  4-person household   \n",
       "1                  223                 133                  90   \n",
       "2                  242                 124                  93   \n",
       "3                  419                 216                 171   \n",
       "4                  630                 304                 197   \n",
       "\n",
       "                VAP006              VAP007                      VAP008  \n",
       "ID                                                                      \n",
       "0   5-person household  6-person household  7-or-more-person household  \n",
       "1                   44                  18                          18  \n",
       "2                   42                  19                          18  \n",
       "3                   93                  29                          10  \n",
       "4                   72                  38                          23  \n",
       "\n",
       "[5 rows x 37 columns]"
      ]
     },
     "execution_count": 27,
     "metadata": {},
     "output_type": "execute_result"
    }
   ],
   "source": [
    "df4.head()"
   ]
  },
  {
   "cell_type": "code",
   "execution_count": 28,
   "metadata": {},
   "outputs": [
    {
     "data": {
      "text/plain": [
       "Index(['GISJOIN', 'YEAR', 'STUSAB', 'GEOID', 'GEOCODE', 'REGIONA', 'DIVISIONA',\n",
       "       'STATE', 'STATEA', 'COUNTY', 'COUNTYA', 'TRACTA', 'CBSAA', 'MEMI',\n",
       "       'CSAA', 'METDIVA', 'PUMA', 'AREALAND', 'AREAWATR', 'BASENAME', 'NAME',\n",
       "       'FUNCSTAT', 'INTPTLAT', 'INTPTLON', 'LSADC', 'U7H001', 'U7I002',\n",
       "       'U7I003', 'U7I004', 'VAP001', 'VAP002', 'VAP003', 'VAP004', 'VAP005',\n",
       "       'VAP006', 'VAP007', 'VAP008'],\n",
       "      dtype='object')"
      ]
     },
     "execution_count": 28,
     "metadata": {},
     "output_type": "execute_result"
    }
   ],
   "source": [
    "df4.columns"
   ]
  },
  {
   "cell_type": "code",
   "execution_count": null,
   "metadata": {},
   "outputs": [],
   "source": []
  }
 ],
 "metadata": {
  "kernelspec": {
   "display_name": "ai",
   "language": "python",
   "name": "python3"
  },
  "language_info": {
   "codemirror_mode": {
    "name": "ipython",
    "version": 3
   },
   "file_extension": ".py",
   "mimetype": "text/x-python",
   "name": "python",
   "nbconvert_exporter": "python",
   "pygments_lexer": "ipython3",
   "version": "3.12.9"
  }
 },
 "nbformat": 4,
 "nbformat_minor": 2
}
